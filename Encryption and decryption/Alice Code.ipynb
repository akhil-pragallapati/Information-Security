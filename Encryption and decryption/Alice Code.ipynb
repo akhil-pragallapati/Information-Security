{
 "cells": [
  {
   "cell_type": "code",
   "execution_count": 61,
   "id": "53c596a6",
   "metadata": {},
   "outputs": [],
   "source": [
    "import paramiko\n",
    "\n",
    "def send_file_data(filename, hostname, username, password):\n",
    "    \n",
    "    ssh = paramiko.SSHClient()\n",
    "    ssh.set_missing_host_key_policy(paramiko.AutoAddPolicy())\n",
    "    ssh.connect(hostname=hostname, username=username, password=password)\n",
    "    \n",
    "\n",
    "    \n",
    "    with open(filename, 'rb') as f:\n",
    "        contents = f.read()\n",
    "    \n",
    "    \n",
    "    sftp = ssh.open_sftp()\n",
    "    sftp.put(filename, f'C:/Users/SUNYloaner/2. 559_Systems Security/Info Security/{filename}')\n",
    "    sftp.close()\n",
    "    \n",
    "    ssh.close()\n",
    "    print(filename, \" Sent Successfully\")\n",
    "\n",
    "\n"
   ]
  },
  {
   "cell_type": "code",
   "execution_count": 62,
   "id": "02d3f90f",
   "metadata": {},
   "outputs": [
    {
     "name": "stdout",
     "output_type": "stream",
     "text": [
      "Alice's ramdom number:  197\n",
      "Ra_akhil.txt  Sent Successfully\n"
     ]
    }
   ],
   "source": [
    "\n",
    "from random import randint\n",
    "\n",
    "# Shared prime number and base\n",
    "base_value = 65537\n",
    "prime_value = 2147483647\n",
    "\n",
    "\n",
    "# Alice's Random number\n",
    "Ra_alice = randint(1, 1000)\n",
    "\n",
    "print(\"Alice's ramdom number: \", Ra_alice)\n",
    "with open(\"Ra_akhil.txt\", \"w\") as random_a_out_file:\n",
    "    random_a_out_file.write(str(Ra_alice))\n",
    "\n",
    "send_file_data('Ra_akhil.txt', '192.168.1.220', 'SUNYLoaner', 'B1nghamt0n')\n",
    "\n",
    "\n",
    "# Alice private key\n",
    "A = pow(base_value, Ra_alice, prime_value)\n"
   ]
  },
  {
   "cell_type": "code",
   "execution_count": 64,
   "id": "455439f7",
   "metadata": {},
   "outputs": [
    {
     "name": "stdout",
     "output_type": "stream",
     "text": [
      "847\n",
      "Symmetric key: 78583997\n"
     ]
    }
   ],
   "source": [
    "\n",
    "\n",
    "with open(\"bob_rand_int.txt\", \"r\") as file:\n",
    "    # read all file data\n",
    "    Rb = file.read()\n",
    "    Rb = int(Rb)\n",
    "print(Rb)\n",
    "shared_secret_key = pow(A, Rb, prime_value)\n",
    "\n",
    "# shared_secret_Bob is same with alice and bob\n",
    "print(\"Symmetric key:\", shared_secret_key)"
   ]
  },
  {
   "cell_type": "code",
   "execution_count": 65,
   "id": "03da0dc1",
   "metadata": {},
   "outputs": [
    {
     "name": "stdout",
     "output_type": "stream",
     "text": [
      "b'\\x04\\xaf\\x18\\xbd'\n",
      " File Encrypted\n"
     ]
    }
   ],
   "source": [
    "#ALice  Encryption Code \n",
    "\n",
    "from cryptography.hazmat.backends import default_backend\n",
    "from cryptography.hazmat.primitives import hashes\n",
    "from cryptography.fernet import Fernet\n",
    "from cryptography.hazmat.primitives.kdf.pbkdf2 import PBKDF2HMAC\n",
    "import base64\n",
    "\n",
    "# Converting the above generated int symmetric key to binary\n",
    "\n",
    "b_bytes = shared_secret_key.to_bytes(4, 'big')\n",
    "print(b_bytes)\n",
    "password = b_bytes\n",
    "salt = b_bytes\n",
    "kdf = PBKDF2HMAC(\n",
    "    algorithm=hashes.SHA256,\n",
    "    length=32,\n",
    "    salt=salt,\n",
    "    iterations=100000,\n",
    "    backend=default_backend()\n",
    ")\n",
    "\n",
    "key = base64.urlsafe_b64encode(kdf.derive(password))\n",
    "f = Fernet(key)\n",
    "\n",
    "with open(\"file_to_encrypt.txt\", \"rb\") as file:\n",
    "    # read all file data\n",
    "    file_data = file.read()\n",
    "    # encrypt data\n",
    "    encrypted_data = f.encrypt(file_data)\n",
    "    # write the encrypted data to a new file\n",
    "    with open(\"encrypted_file.bin\", \"wb\") as out_file:\n",
    "        out_file.write(encrypted_data)\n",
    "\n",
    "print(\" File Encrypted\")"
   ]
  },
  {
   "cell_type": "code",
   "execution_count": 66,
   "id": "d6c6c965",
   "metadata": {},
   "outputs": [
    {
     "name": "stdout",
     "output_type": "stream",
     "text": [
      "encrypted_file.bin  Sent Successfully\n"
     ]
    }
   ],
   "source": [
    "send_file_data('encrypted_file.bin', '192.168.1.220', 'SUNYLoaner', 'B1nghamt0n')"
   ]
  }
 ],
 "metadata": {
  "kernelspec": {
   "display_name": "Python 3 (ipykernel)",
   "language": "python",
   "name": "python3"
  },
  "language_info": {
   "codemirror_mode": {
    "name": "ipython",
    "version": 3
   },
   "file_extension": ".py",
   "mimetype": "text/x-python",
   "name": "python",
   "nbconvert_exporter": "python",
   "pygments_lexer": "ipython3",
   "version": "3.9.12"
  }
 },
 "nbformat": 4,
 "nbformat_minor": 5
}
