{
 "cells": [
  {
   "cell_type": "code",
   "execution_count": 69,
   "id": "af50f972",
   "metadata": {},
   "outputs": [],
   "source": [
    "import paramiko\n",
    "\n",
    "# Function to send a file to a remote server\n",
    "def send_file_data(file_name, IP_address, username, password):\n",
    "    # Connect to the remote server using SSH\n",
    "    ssh = paramiko.SSHClient()\n",
    "    ssh.set_missing_host_key_policy(paramiko.AutoAddPolicy())\n",
    "    ssh.connect(hostname=IP_address, username=username, password=password)\n",
    "\n",
    "    # Open the file and read its contents\n",
    "\n",
    "    #print(contents)\n",
    "    # Create a SFTP client and upload the file\n",
    "    sftp = ssh.open_sftp()\n",
    "    sftp.put(file_name, f'C:/Users/SUNYloaner/OneDrive - Binghamton University (1)/spring 2023/Info Security/{file_name}')\n",
    "    sftp.close()\n",
    "\n",
    "    # Close the SSH connection\n",
    "    ssh.close()\n",
    "    print(\"File is sent Successfully !\")"
   ]
  },
  {
   "cell_type": "code",
   "execution_count": 93,
   "id": "55d39955",
   "metadata": {},
   "outputs": [
    {
     "name": "stdout",
     "output_type": "stream",
     "text": [
      "Bob's Random Integer is:  847\n"
     ]
    }
   ],
   "source": [
    "from random import randint\n",
    "\n",
    "\n",
    "prime = 2147483647\n",
    "base = 65537\n",
    "\n",
    "\n",
    "# Bob's Random Number\n",
    "bob_rand_int = randint(1, 1000) # random number \n",
    "print(\"Bob's Random Integer is: \", bob_rand_int)\n",
    "\n",
    "# Bob's private key\n",
    "B = pow(base, bob_rand_int, prime)  # private key\n",
    "\n"
   ]
  },
  {
   "cell_type": "code",
   "execution_count": 94,
   "id": "3a3568b4",
   "metadata": {},
   "outputs": [],
   "source": [
    "\n",
    "with open(\"bob_rand_int.txt\", \"w\") as written_file:\n",
    "    written_file.write(str(bob_rand_int))"
   ]
  },
  {
   "cell_type": "code",
   "execution_count": 95,
   "id": "583b3847",
   "metadata": {},
   "outputs": [
    {
     "name": "stdout",
     "output_type": "stream",
     "text": [
      "File is sent Successfully !\n"
     ]
    }
   ],
   "source": [
    "# Example usage: send a file to a remote server\n",
    "send_file_data('bob_rand_int.txt', '192.168.1.72', 'SUNYloaner', 'B1nghamt0n')"
   ]
  },
  {
   "cell_type": "code",
   "execution_count": 96,
   "id": "1198af42",
   "metadata": {},
   "outputs": [],
   "source": [
    "with open(\"Ra_akhil.txt\", \"r\") as file:\n",
    "    # read the encrypted data\n",
    "    alice_num = file.read()\n",
    "alice_int = int(alice_num)"
   ]
  },
  {
   "cell_type": "code",
   "execution_count": 97,
   "id": "fc921881",
   "metadata": {},
   "outputs": [
    {
     "name": "stdout",
     "output_type": "stream",
     "text": [
      "Symmetric Key: 78583997\n"
     ]
    }
   ],
   "source": [
    "\n",
    "a = alice_int # random value from Alice\n",
    "\n",
    "shared_secret_key = pow(B, a, prime)\n",
    "\n",
    "# shared_secret_Alice is same with Alice and Bob \n",
    "print(\"Symmetric Key:\", shared_secret_key)\n"
   ]
  },
  {
   "cell_type": "code",
   "execution_count": 98,
   "id": "3c7d7c38",
   "metadata": {},
   "outputs": [
    {
     "name": "stdout",
     "output_type": "stream",
     "text": [
      "File is decrypted Successfully !\n"
     ]
    }
   ],
   "source": [
    "# Bob's Decryption Code \n",
    "\n",
    "import base64\n",
    "from cryptography.hazmat.primitives.kdf.pbkdf2 import PBKDF2HMAC\n",
    "from cryptography.fernet import Fernet\n",
    "from cryptography.hazmat.primitives import hashes\n",
    "from cryptography.hazmat.backends import default_backend\n",
    "\n",
    "b_bytes = shared_secret_key.to_bytes(4, 'big')\n",
    "password = b_bytes #this is the key generated from above block of code\n",
    "salt = b_bytes\n",
    "\n",
    "kdf = PBKDF2HMAC(\n",
    "    algorithm=hashes.SHA256,\n",
    "    length=32,\n",
    "    salt=salt,\n",
    "    iterations=100000,\n",
    "    backend=default_backend()\n",
    ")\n",
    "\n",
    "key = base64.urlsafe_b64encode(kdf.derive(password))\n",
    "f = Fernet(key)\n",
    "\n",
    "with open(\"encrypted_file.bin\", \"rb\") as file:\n",
    "    # read the encrypted data\n",
    "    encrypted_data = file.read()\n",
    "    # decrypt the data\n",
    "    decrypted_data = f.decrypt(encrypted_data)\n",
    "    # write the decrypted data to a new file\n",
    "    with open(\"decrypted_file.txt\", \"wb\") as out_file:\n",
    "        out_file.write(decrypted_data)\n",
    "print(\"File is decrypted Successfully !\")"
   ]
  }
 ],
 "metadata": {
  "kernelspec": {
   "display_name": "Python 3 (ipykernel)",
   "language": "python",
   "name": "python3"
  },
  "language_info": {
   "codemirror_mode": {
    "name": "ipython",
    "version": 3
   },
   "file_extension": ".py",
   "mimetype": "text/x-python",
   "name": "python",
   "nbconvert_exporter": "python",
   "pygments_lexer": "ipython3",
   "version": "3.9.12"
  }
 },
 "nbformat": 4,
 "nbformat_minor": 5
}
